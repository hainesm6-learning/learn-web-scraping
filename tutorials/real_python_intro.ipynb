{
 "cells": [
  {
   "cell_type": "markdown",
   "metadata": {},
   "source": [
    "**ABANDONED - MORE COMPREHENSIVE TUTORIAL GIVEN AT https://realpython.com/beautiful-soup-web-scraper-python/**\n",
    "\n",
    "# Real Python practical introduction to web scraping\n",
    "\n",
    "This Jupyter Notebook is an implementation of the [web scraping introductory tutorial provided by Real Python](https://realpython.com/python-web-scraping-practical-introduction/).\n",
    "\n",
    "The following cell imports the relevant packages and defines functions to import raw html into python"
   ]
  },
  {
   "cell_type": "code",
   "execution_count": 2,
   "metadata": {},
   "outputs": [],
   "source": [
    "from requests import get\n",
    "from requests.exceptions import RequestException\n",
    "from contextlib import closing\n",
    "from bs4 import BeautifulSoup\n",
    "\n",
    "def simple_get(url):\n",
    "    \"\"\"\n",
    "    Attempts to get the content at `url` by making an HTTP GET request.\n",
    "    If the content-type of response is some kind of HTML/XML, return the\n",
    "    text content, otherwise return None.\n",
    "    \"\"\"\n",
    "    try:\n",
    "        with closing(get(url, stream=True)) as resp:\n",
    "            if is_good_response(resp):\n",
    "                return resp.content\n",
    "            else:\n",
    "                return None\n",
    "\n",
    "    except RequestException as e:\n",
    "        log_error('Error during requests to {0} : {1}'.format(url, str(e)))\n",
    "        return None\n",
    "\n",
    "\n",
    "def is_good_response(resp):\n",
    "    \"\"\"\n",
    "    Returns True if the response seems to be HTML, False otherwise.\n",
    "    \"\"\"\n",
    "    content_type = resp.headers['Content-Type'].lower()\n",
    "    return (resp.status_code == 200 \n",
    "            and content_type is not None \n",
    "            and content_type.find('html') > -1)\n",
    "\n",
    "\n",
    "def log_error(e):\n",
    "    \"\"\"\n",
    "    It is always a good idea to log errors. \n",
    "    This function just prints them, but you can\n",
    "    make it do anything.\n",
    "    \"\"\"\n",
    "    print(e)"
   ]
  },
  {
   "cell_type": "markdown",
   "metadata": {},
   "source": [
    "## Importing raw HTML\n",
    "\n",
    "The first task is to make some web requests, demonstrating the functionality of the above functions."
   ]
  },
  {
   "cell_type": "code",
   "execution_count": 3,
   "metadata": {},
   "outputs": [
    {
     "output_type": "stream",
     "name": "stdout",
     "text": "The length of the Real Python blog is: 39693\nnot_a_real_webpage from Real Python doesn't exist\n"
    }
   ],
   "source": [
    "raw_html = simple_get(\"https://realpython.com/blog/\")\n",
    "print(f\"The length of the Real Python blog is: {len(raw_html)}\")\n",
    "\n",
    "no_html = simple_get(\"https://realpython.com/not_a_real_webpage\")\n",
    "if not no_html:\n",
    "    print(\"/not_a_real_webpage doesn't exist in the Real Python domain\")\n"
   ]
  },
  {
   "cell_type": "markdown",
   "metadata": {},
   "source": [
    "## Manipulating HTML with BeautifulSoup\n",
    "\n",
    "- The BeautifulSoup constructor parses raw HTML strings and produces an object in python that mirrors that of the original HTML.\n",
    "- "
   ]
  }
 ],
 "metadata": {
  "language_info": {
   "codemirror_mode": {
    "name": "ipython",
    "version": 3
   },
   "file_extension": ".py",
   "mimetype": "text/x-python",
   "name": "python",
   "nbconvert_exporter": "python",
   "pygments_lexer": "ipython3",
   "version": "3.8.2-final"
  },
  "orig_nbformat": 2,
  "kernelspec": {
   "name": "python38264bitmy382venvb9063c1a92464c819c5e29a2e50c202a",
   "display_name": "Python 3.8.2 64-bit ('my_382': venv)"
  }
 },
 "nbformat": 4,
 "nbformat_minor": 2
}